{
 "cells": [
  {
   "cell_type": "code",
   "execution_count": null,
   "metadata": {},
   "outputs": [
    {
     "name": "stdout",
     "output_type": "stream",
     "text": [
      " * Serving Flask app \"__name__\" (lazy loading)\n",
      " * Environment: production\n",
      "   WARNING: Do not use the development server in a production environment.\n",
      "   Use a production WSGI server instead.\n",
      " * Debug mode: off\n"
     ]
    },
    {
     "name": "stderr",
     "output_type": "stream",
     "text": [
      " * Running on http://127.0.0.1:5000/ (Press CTRL+C to quit)\n",
      "127.0.0.1 - - [05/Sep/2019 12:55:26] \"GET / HTTP/1.1\" 200 -\n",
      "127.0.0.1 - - [05/Sep/2019 12:55:33] \"POST /operation HTTP/1.1\" 302 -\n",
      "127.0.0.1 - - [05/Sep/2019 12:55:33] \"GET /result/Multiplication%20is:4 HTTP/1.1\" 200 -\n"
     ]
    }
   ],
   "source": [
    "from flask import Flask,redirect,url_for,request,render_template\n",
    "\n",
    "app=Flask(\"__name__\")\n",
    "\n",
    "\n",
    "    \n",
    "@app.route(\"/result/<msg>\",methods=['GET','POST'])\n",
    "def result(msg):\n",
    "     return render_template(\"result.html\",message=msg)\n",
    "\n",
    "    \n",
    "\n",
    "\n",
    "\n",
    "@app.route(\"/operation\",methods=['GET','POST'])\n",
    "def operation():\n",
    "    no1=int(request.form['no1'])\n",
    "    no2=int(request.form['no2'])\n",
    "    \n",
    "    if request.form['btn']=='+':\n",
    "        no3=no1+no2\n",
    "        \n",
    "        #return str(no3)\n",
    "        return redirect(url_for(\"result\",msg=\"Addition is:\" +str(no3)))\n",
    "    \n",
    "    elif request.form['btn']=='-':\n",
    "        no3=no1-no2\n",
    "        #return str(no3)\n",
    "        return redirect(url_for(\"result\",msg=\"Subtraction is:\" +str(no3)))\n",
    "    \n",
    "    elif request.form['btn']=='*':\n",
    "        no3=no1*no2\n",
    "        #return str(no3)\n",
    "        return redirect(url_for(\"result\",msg=\"Multiplication is:\" +str(no3)))\n",
    "\n",
    "    elif request.form['btn']=='/':\n",
    "        no3=no1/no2\n",
    "        #return str(no3)\n",
    "        return redirect(url_for(\"result\",msg=\"Division is:\" +str(no3)))\n",
    "\n",
    "@app.route(\"/\")\n",
    "def binaryop():\n",
    "    return render_template(\"binarypage.html\")\n",
    "\n",
    "\n",
    "if __name__==\"__main__\":\n",
    "    app.run()\n",
    "\n",
    "\n",
    "\n",
    "\n",
    "\n"
   ]
  },
  {
   "cell_type": "code",
   "execution_count": null,
   "metadata": {},
   "outputs": [],
   "source": []
  }
 ],
 "metadata": {
  "kernelspec": {
   "display_name": "Python 3",
   "language": "python",
   "name": "python3"
  },
  "language_info": {
   "codemirror_mode": {
    "name": "ipython",
    "version": 3
   },
   "file_extension": ".py",
   "mimetype": "text/x-python",
   "name": "python",
   "nbconvert_exporter": "python",
   "pygments_lexer": "ipython3",
   "version": "3.7.3"
  }
 },
 "nbformat": 4,
 "nbformat_minor": 2
}
