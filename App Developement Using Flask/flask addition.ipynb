{
 "cells": [
  {
   "cell_type": "code",
   "execution_count": null,
   "metadata": {},
   "outputs": [
    {
     "name": "stdout",
     "output_type": "stream",
     "text": [
      " * Serving Flask app \"__main__\" (lazy loading)\n",
      " * Environment: production\n",
      "   WARNING: Do not use the development server in a production environment.\n",
      "   Use a production WSGI server instead.\n",
      " * Debug mode: off\n"
     ]
    },
    {
     "name": "stderr",
     "output_type": "stream",
     "text": [
      " * Running on http://127.0.0.1:5000/ (Press CTRL+C to quit)\n"
     ]
    }
   ],
   "source": [
    "from flask import Flask\n",
    "\n",
    "app=Flask(__name__)\n",
    "\n",
    "\n",
    "@app.route(\"/arithmatic\")  #request\n",
    "def arithmatic():\n",
    "    return \"This is  Arithmatic page Page...\"\n",
    "\n",
    "    \n",
    "@app.route(\"/arithmatic/add/<int:no1>/<int:no2>\")\n",
    "def addition(no1,no2):\n",
    "    no3=no1+no2\n",
    "    return \"<h1>Addition is:\"+ str(no3)+ \"</h1>\"\n",
    "\n",
    "@app.route(\"/arithmatic/sub/<int:no1>/<int:no2>\")\n",
    "def subtraction(no1,no2):\n",
    "    no3=no1-no2\n",
    "    return \"<h1>Subtraction is:\"+ str(no3)+ \"</h1>\"\n",
    "\n",
    "@app.route(\"/arithmatic/mult/<int:no1>/<int:no2>\")\n",
    "def mult(no1,no2):\n",
    "    no3=no1*no2\n",
    "    return \"<h1>multiplication is:\"+ str(no3)+ \"</h1>\"\n",
    "\n",
    "@app.route(\"/arithmatic/div/<int:no1>/<int:no2>\")\n",
    "def div(no1,no2):\n",
    "    no3=no1/no2\n",
    "    return \"<h1>Division is:\"+ str(no3)+ \"</h1>\"\n",
    "\n",
    "\n",
    "    \n",
    "    \n",
    "    \n",
    "\n",
    "if __name__==\"__main__\":\n",
    "    app.run()\n",
    "\n",
    "\n",
    "\n",
    "\n",
    "\n",
    "\n",
    "\n",
    "\n"
   ]
  },
  {
   "cell_type": "code",
   "execution_count": null,
   "metadata": {},
   "outputs": [],
   "source": []
  },
  {
   "cell_type": "code",
   "execution_count": null,
   "metadata": {},
   "outputs": [],
   "source": []
  }
 ],
 "metadata": {
  "kernelspec": {
   "display_name": "Python 3",
   "language": "python",
   "name": "python3"
  },
  "language_info": {
   "codemirror_mode": {
    "name": "ipython",
    "version": 3
   },
   "file_extension": ".py",
   "mimetype": "text/x-python",
   "name": "python",
   "nbconvert_exporter": "python",
   "pygments_lexer": "ipython3",
   "version": "3.7.3"
  }
 },
 "nbformat": 4,
 "nbformat_minor": 2
}
