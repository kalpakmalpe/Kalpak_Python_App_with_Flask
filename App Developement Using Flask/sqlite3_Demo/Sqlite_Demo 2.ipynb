{
 "cells": [
  {
   "cell_type": "code",
   "execution_count": 1,
   "metadata": {},
   "outputs": [
    {
     "name": "stdout",
     "output_type": "stream",
     "text": [
      " * Serving Flask app \"__main__\" (lazy loading)\n",
      " * Environment: production\n",
      "   WARNING: Do not use the development server in a production environment.\n",
      "   Use a production WSGI server instead.\n",
      " * Debug mode: off\n"
     ]
    },
    {
     "name": "stderr",
     "output_type": "stream",
     "text": [
      " * Running on http://127.0.0.1:5000/ (Press CTRL+C to quit)\n",
      "127.0.0.1 - - [16/Sep/2019 11:16:26] \"GET / HTTP/1.1\" 200 -\n",
      "127.0.0.1 - - [16/Sep/2019 11:16:29] \"GET /list HTTP/1.1\" 200 -\n",
      "127.0.0.1 - - [16/Sep/2019 11:16:33] \"GET / HTTP/1.1\" 200 -\n",
      "127.0.0.1 - - [16/Sep/2019 11:16:34] \"GET /enternew HTTP/1.1\" 200 -\n",
      "127.0.0.1 - - [16/Sep/2019 11:16:48] \"POST /addrec HTTP/1.1\" 200 -\n",
      "127.0.0.1 - - [16/Sep/2019 11:16:49] \"GET / HTTP/1.1\" 200 -\n",
      "127.0.0.1 - - [16/Sep/2019 11:16:51] \"GET /list HTTP/1.1\" 200 -\n"
     ]
    }
   ],
   "source": [
    "from flask import Flask, render_template, request\n",
    "import sqlite3 as sql\n",
    "app = Flask(__name__)\n",
    "\n",
    "@app.route('/')\n",
    "def home():\n",
    "    return render_template('home.html')\n",
    "\n",
    "@app.route('/enternew')\n",
    "def new_student():\n",
    "    return render_template('student.html')\n",
    "\n",
    "@app.route('/addrec',methods = ['POST', 'GET'])\n",
    "def addrec():\n",
    "    \n",
    "    if request.method == 'POST':\n",
    "        \n",
    "        try:\n",
    "            \n",
    "            nm = request.form['nm']\n",
    "            addr = request.form['add']\n",
    "            city = request.form['city']\n",
    "            pin = request.form['pin']\n",
    "            \n",
    "         \n",
    "            with sql.connect(\"database.db\") as con:\n",
    "                \n",
    "                cur = con.cursor()\n",
    "                cur.execute(\"INSERT INTO students (name,addr,city,pin) VALUES (?,?,?,?)\",(nm,addr,city,pin) )\n",
    "            \n",
    "                con.commit()\n",
    "                msg = \"Record successfully added\"\n",
    "        except:\n",
    "            \n",
    "            con.rollback()\n",
    "            msg = \"error in insert operation\"\n",
    "      \n",
    "        finally:\n",
    "            \n",
    "            return render_template(\"result.html\",msg = msg)\n",
    "            con.close()\n",
    "                        \n",
    "@app.route('/list')\n",
    "def list():\n",
    "    \n",
    "    con = sql.connect(\"database.db\")\n",
    "    con.row_factory = sql.Row\n",
    "   \n",
    "    cur = con.cursor()\n",
    "    cur.execute(\"select * from students\")\n",
    "   \n",
    "    rows = cur.fetchall();\n",
    "    return render_template(\"list.html\",rows = rows)\n",
    "\n",
    "if __name__ == '__main__':\n",
    "    \n",
    "    app.run()"
   ]
  }
 ],
 "metadata": {
  "kernelspec": {
   "display_name": "Python 3",
   "language": "python",
   "name": "python3"
  },
  "language_info": {
   "codemirror_mode": {
    "name": "ipython",
    "version": 3
   },
   "file_extension": ".py",
   "mimetype": "text/x-python",
   "name": "python",
   "nbconvert_exporter": "python",
   "pygments_lexer": "ipython3",
   "version": "3.7.3"
  }
 },
 "nbformat": 4,
 "nbformat_minor": 2
}
