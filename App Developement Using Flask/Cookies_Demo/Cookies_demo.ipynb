{
 "cells": [
  {
   "cell_type": "code",
   "execution_count": 1,
   "metadata": {},
   "outputs": [
    {
     "name": "stdout",
     "output_type": "stream",
     "text": [
      " * Serving Flask app \"__main__\" (lazy loading)\n",
      " * Environment: production\n",
      "   WARNING: Do not use the development server in a production environment.\n",
      "   Use a production WSGI server instead.\n",
      " * Debug mode: off\n"
     ]
    },
    {
     "name": "stderr",
     "output_type": "stream",
     "text": [
      " * Running on http://127.0.0.1:5000/ (Press CTRL+C to quit)\n",
      "127.0.0.1 - - [11/Sep/2019 12:58:05] \"GET / HTTP/1.1\" 200 -\n",
      "127.0.0.1 - - [11/Sep/2019 12:58:09] \"POST /process HTTP/1.1\" 302 -\n",
      "127.0.0.1 - - [11/Sep/2019 12:58:09] \"GET /success HTTP/1.1\" 200 -\n"
     ]
    },
    {
     "name": "stdout",
     "output_type": "stream",
     "text": [
      "kalpak\n",
      "1\n"
     ]
    },
    {
     "name": "stderr",
     "output_type": "stream",
     "text": [
      "127.0.0.1 - - [11/Sep/2019 12:58:11] \"GET /success HTTP/1.1\" 200 -\n"
     ]
    },
    {
     "name": "stdout",
     "output_type": "stream",
     "text": [
      "kalpak\n",
      "2\n"
     ]
    },
    {
     "name": "stderr",
     "output_type": "stream",
     "text": [
      "127.0.0.1 - - [11/Sep/2019 12:58:12] \"GET /success HTTP/1.1\" 200 -\n"
     ]
    },
    {
     "name": "stdout",
     "output_type": "stream",
     "text": [
      "kalpak\n",
      "3\n"
     ]
    }
   ],
   "source": [
    "from flask import *\n",
    "\n",
    "app = Flask(__name__)\n",
    "\n",
    "@app.route(\"/\")\n",
    "def demo():\n",
    "    return render_template(\"demo_form.html\")\n",
    "\n",
    "@app.route(\"/process\", methods=[\"POST\",\"GET\"])\n",
    "def process():\n",
    "    \n",
    "    username = request.form[\"tuser\"]\n",
    "    \n",
    "    resp = make_response(redirect(url_for(\"success\")))\n",
    "    resp.set_cookie(\"uname\",username);\n",
    "    \n",
    "    \n",
    "    return resp;\n",
    "\n",
    "@app.route(\"/success\")\n",
    "def success():\n",
    "    \n",
    "    uname = request.cookies.get(\"uname\")\n",
    "    print(uname)\n",
    "    \n",
    "    cnt = request.cookies.get(\"count\")\n",
    "    \n",
    "    if cnt == None:\n",
    "        cnt = 1\n",
    "    else:\n",
    "        cnt = int(cnt) + 1\n",
    "    \n",
    "    print(cnt)\n",
    "    \n",
    "    resp = make_response(render_template(\"success.html\", name=uname, count=cnt))\n",
    "    resp.set_cookie(\"count\",str(cnt))\n",
    "    return resp\n",
    "\n",
    "if(__name__ == \"__main__\"):\n",
    "    app.run()"
   ]
  }
 ],
 "metadata": {
  "kernelspec": {
   "display_name": "Python 3",
   "language": "python",
   "name": "python3"
  },
  "language_info": {
   "codemirror_mode": {
    "name": "ipython",
    "version": 3
   },
   "file_extension": ".py",
   "mimetype": "text/x-python",
   "name": "python",
   "nbconvert_exporter": "python",
   "pygments_lexer": "ipython3",
   "version": "3.7.3"
  }
 },
 "nbformat": 4,
 "nbformat_minor": 2
}
