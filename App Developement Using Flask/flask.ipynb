{
 "cells": [
  {
   "cell_type": "code",
   "execution_count": null,
   "metadata": {},
   "outputs": [],
   "source": [
    "from flask import Flask\n",
    "\n",
    "app=Flask(__name__)\n",
    "\n",
    "\n",
    "@app.route(\"/\")\n",
    "def home_page():\n",
    "    return \"This is Home Page...\"\n",
    "\n",
    "@app.route(\"/about/<int:id>/<msg>\")\n",
    "def about(id,msg):\n",
    "    return \"<h1>This is about Page...\"+str(id)+\"to\"+msg+\"</h1>\"\n",
    "\n",
    "\n",
    "\n",
    "@app.route(\"/login\")\n",
    "def login_page():\n",
    "    responce=\"\"\n",
    "    responce+=\"<table>\"\n",
    "    responce+=\"<tr>\"\n",
    "    responce+=\"<td>Usename</td>\"\n",
    "    responce+=\"<td><input type='text'></td>\"\n",
    "    responce+=\"</tr>\"\n",
    "    responce+=\"<tr>\"\n",
    "    responce+=\"<td>Password</td>\"\n",
    "    responce+=\"<td><input type='password'></td>\"\n",
    "    responce+=\"</tr>\"\n",
    "    responce+=\"<tr>\"\n",
    "    responce+=\"<td><input type='submit' value='Login'></td>\"\n",
    "    responce+=\"</tr>\"\n",
    "    responce+=\"</table>\"\n",
    "    \n",
    "    return responce\n",
    "\n",
    "\n",
    "\n",
    "\n",
    "\n",
    "\n",
    "if __name__==\"__main__\":\n",
    "    app.run()"
   ]
  },
  {
   "cell_type": "code",
   "execution_count": null,
   "metadata": {},
   "outputs": [],
   "source": [
    "\n",
    "\n",
    "\n",
    "\n",
    "\n",
    "\n"
   ]
  },
  {
   "cell_type": "code",
   "execution_count": null,
   "metadata": {},
   "outputs": [],
   "source": []
  }
 ],
 "metadata": {
  "kernelspec": {
   "display_name": "Python 3",
   "language": "python",
   "name": "python3"
  },
  "language_info": {
   "codemirror_mode": {
    "name": "ipython",
    "version": 3
   },
   "file_extension": ".py",
   "mimetype": "text/x-python",
   "name": "python",
   "nbconvert_exporter": "python",
   "pygments_lexer": "ipython3",
   "version": "3.7.3"
  }
 },
 "nbformat": 4,
 "nbformat_minor": 2
}
