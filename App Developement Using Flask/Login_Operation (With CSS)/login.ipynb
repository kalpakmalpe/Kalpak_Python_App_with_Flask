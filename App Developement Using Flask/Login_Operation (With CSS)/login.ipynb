{
 "cells": [
  {
   "cell_type": "code",
   "execution_count": null,
   "metadata": {},
   "outputs": [
    {
     "name": "stdout",
     "output_type": "stream",
     "text": [
      " * Serving Flask app \"__main__\" (lazy loading)\n",
      " * Environment: production\n",
      "   WARNING: Do not use the development server in a production environment.\n",
      "   Use a production WSGI server instead.\n",
      " * Debug mode: off\n"
     ]
    },
    {
     "name": "stderr",
     "output_type": "stream",
     "text": [
      " * Running on http://127.0.0.1:5000/ (Press CTRL+C to quit)\n",
      "127.0.0.1 - - [17/Sep/2019 19:25:07] \"GET / HTTP/1.1\" 200 -\n",
      "127.0.0.1 - - [17/Sep/2019 19:25:19] \"POST /formprocess HTTP/1.1\" 200 -\n"
     ]
    }
   ],
   "source": [
    "from flask import Flask,redirect,url_for,request,render_template\n",
    "\n",
    "app=Flask(__name__)\n",
    "\n",
    "@app.route(\"/formprocess\",methods=['GET','POST'])\n",
    "def form_process():\n",
    "    username=request.form['uname']\n",
    "    password=request.form['upass']\n",
    "    \n",
    "    if username=='kalpak' and password=='kal':\n",
    "        return render_template(\"operation.html\")\n",
    "    else:\n",
    "        return render_template(\"login.html\",msg=\"Sorry,Invalid Login!!!\")    #\"Sorry,Invalid Login!!!\"\n",
    "\n",
    "    \n",
    "@app.route(\"/result/<msg1>/<msg2>/<msg3>/<msg4>\",methods=['GET','POST'])\n",
    "def result(msg1,msg2,msg3,msg4):\n",
    "    return render_template(\"result.html\",message1=msg1,message2=msg2,message3=msg3,message4=msg4)\n",
    "    \n",
    "    \n",
    "@app.route(\"/operation\",methods=['GET','POST'])\n",
    "def operation():\n",
    "    btn_click = request.form['btn']\n",
    "    \n",
    "    if  btn_click == 'Logout':      \n",
    "        return render_template(\"login.html\")\n",
    "    \n",
    "    elif btn_click == 'Try_Again':      \n",
    "        return render_template(\"operation.html\")\n",
    "        \n",
    "    \n",
    "    no1=int(request.form['no1'])\n",
    "    no2=int(request.form['no2'])\n",
    "    no3=request.form['btn']\n",
    "    \n",
    "    if request.form['btn']=='+':\n",
    "        result=no1+no2\n",
    "        return redirect(url_for(\"result\",msg1=no1,msg2=no2,msg3=no3,msg4=result))\n",
    "    \n",
    "    elif request.form['btn']=='-':\n",
    "        result=no1-no2\n",
    "        #return str(no3)\n",
    "        return redirect(url_for(\"result\",msg1=no1,msg2=no2,msg3=no3,msg4=result))\n",
    "    \n",
    "    elif request.form['btn']=='*':\n",
    "        result=no1*no2\n",
    "        #return str(no3)\n",
    "        return redirect(url_for(\"result\",msg1=no1,msg2=no2,msg3=no3,msg4=result))\n",
    "\n",
    "    elif request.form['btn']=='%':\n",
    "        result=no1/no2\n",
    "        #return str(no3)\n",
    "        return redirect(url_for(\"result\",msg1=no1,msg2=no2,msg3=no3,msg4=result))\n",
    "\n",
    "    \n",
    "    \n",
    "@app.route(\"/\")\n",
    "def form():\n",
    "    return render_template(\"login.html\")\n",
    "\n",
    "    \n",
    "\n",
    "if __name__==\"__main__\":\n",
    "    app.run()\n",
    "\n"
   ]
  },
  {
   "cell_type": "code",
   "execution_count": null,
   "metadata": {},
   "outputs": [],
   "source": [
    "\n",
    "\n",
    "\n"
   ]
  }
 ],
 "metadata": {
  "kernelspec": {
   "display_name": "Python 3",
   "language": "python",
   "name": "python3"
  },
  "language_info": {
   "codemirror_mode": {
    "name": "ipython",
    "version": 3
   },
   "file_extension": ".py",
   "mimetype": "text/x-python",
   "name": "python",
   "nbconvert_exporter": "python",
   "pygments_lexer": "ipython3",
   "version": "3.7.3"
  }
 },
 "nbformat": 4,
 "nbformat_minor": 2
}
