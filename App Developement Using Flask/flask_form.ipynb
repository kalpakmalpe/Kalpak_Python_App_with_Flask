{
 "cells": [
  {
   "cell_type": "code",
   "execution_count": null,
   "metadata": {},
   "outputs": [
    {
     "name": "stdout",
     "output_type": "stream",
     "text": [
      " * Serving Flask app \"__main__\" (lazy loading)\n",
      " * Environment: production\n",
      "   WARNING: Do not use the development server in a production environment.\n",
      "   Use a production WSGI server instead.\n",
      " * Debug mode: off\n"
     ]
    },
    {
     "name": "stderr",
     "output_type": "stream",
     "text": [
      " * Running on http://127.0.0.1:5000/ (Press CTRL+C to quit)\n",
      "127.0.0.1 - - [03/Sep/2019 14:17:13] \"GET / HTTP/1.1\" 404 -\n",
      "127.0.0.1 - - [03/Sep/2019 14:17:18] \"GET /demoform HTTP/1.1\" 200 -\n",
      "127.0.0.1 - - [03/Sep/2019 14:17:26] \"POST /demoprocess HTTP/1.1\" 200 -\n"
     ]
    }
   ],
   "source": [
    "from flask import Flask,request\n",
    "\n",
    "app=Flask(__name__)\n",
    "\n",
    "\n",
    "@app.route(\"/demoprocess\" ,methods=[\"GET\",\"POST\"])\n",
    "def demo_process():\n",
    "    name=request.form[\"nm\"]\n",
    "    return \"Name : \" + name\n",
    "\n",
    "@app.route(\"/demoform\")\n",
    "def form_page():\n",
    "    responce=\"\"\n",
    "    responce+=\"<html>\"\n",
    "    responce+=\"<form    method='POST' action='http://localhost:5000/demoprocess' >\"\n",
    "    responce+=\"<table>\"\n",
    "    responce+=\"<tr>\"\n",
    "    responce+=\"<td>Nmae</td>\"\n",
    "    responce+=\"<td><input type='text'   name='nm'  placeholder='name'></td>\"\n",
    "    responce+=\"</tr>\"\n",
    "    responce+=\"<td><input type='submit' value='Login'></td>\"\n",
    "    responce+=\"</tr>\"\n",
    "    responce+=\"</table>\"\n",
    "    responce+=\"</form>\"\n",
    "    responce+=\"</html>\"\n",
    "\n",
    "\n",
    "    \n",
    "    return responce\n",
    "\n",
    "\n",
    "\n",
    "\n",
    "\n",
    "\n",
    "if __name__==\"__main__\":\n",
    "    app.run()"
   ]
  },
  {
   "cell_type": "code",
   "execution_count": null,
   "metadata": {},
   "outputs": [],
   "source": []
  }
 ],
 "metadata": {
  "kernelspec": {
   "display_name": "Python 3",
   "language": "python",
   "name": "python3"
  },
  "language_info": {
   "codemirror_mode": {
    "name": "ipython",
    "version": 3
   },
   "file_extension": ".py",
   "mimetype": "text/x-python",
   "name": "python",
   "nbconvert_exporter": "python",
   "pygments_lexer": "ipython3",
   "version": "3.7.3"
  }
 },
 "nbformat": 4,
 "nbformat_minor": 2
}
