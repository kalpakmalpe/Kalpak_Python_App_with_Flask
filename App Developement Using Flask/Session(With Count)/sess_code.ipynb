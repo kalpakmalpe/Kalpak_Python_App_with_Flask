{
 "cells": [
  {
   "cell_type": "code",
   "execution_count": null,
   "metadata": {},
   "outputs": [
    {
     "name": "stdout",
     "output_type": "stream",
     "text": [
      " * Serving Flask app \"__main__\" (lazy loading)\n",
      " * Environment: production\n",
      "   WARNING: Do not use the development server in a production environment.\n",
      "   Use a production WSGI server instead.\n",
      " * Debug mode: off\n"
     ]
    },
    {
     "name": "stderr",
     "output_type": "stream",
     "text": [
      " * Running on http://127.0.0.1:5000/ (Press CTRL+C to quit)\n",
      "127.0.0.1 - - [13/Sep/2019 18:43:21] \"GET / HTTP/1.1\" 200 -\n"
     ]
    },
    {
     "name": "stdout",
     "output_type": "stream",
     "text": [
      "None\n"
     ]
    },
    {
     "name": "stderr",
     "output_type": "stream",
     "text": [
      "127.0.0.1 - - [13/Sep/2019 18:43:51] \"POST /process HTTP/1.1\" 302 -\n",
      "127.0.0.1 - - [13/Sep/2019 18:43:51] \"GET /homepage?msg=login+successfull HTTP/1.1\" 200 -\n"
     ]
    },
    {
     "name": "stdout",
     "output_type": "stream",
     "text": [
      "kalpak\n",
      "1\n"
     ]
    },
    {
     "name": "stderr",
     "output_type": "stream",
     "text": [
      "127.0.0.1 - - [13/Sep/2019 18:44:03] \"GET /homepage HTTP/1.1\" 200 -\n"
     ]
    },
    {
     "name": "stdout",
     "output_type": "stream",
     "text": [
      "kalpak\n",
      "2\n"
     ]
    },
    {
     "name": "stderr",
     "output_type": "stream",
     "text": [
      "127.0.0.1 - - [13/Sep/2019 18:44:03] \"GET /homepage HTTP/1.1\" 200 -\n"
     ]
    },
    {
     "name": "stdout",
     "output_type": "stream",
     "text": [
      "kalpak\n",
      "3\n"
     ]
    },
    {
     "name": "stderr",
     "output_type": "stream",
     "text": [
      "127.0.0.1 - - [13/Sep/2019 18:44:04] \"GET /profilepage HTTP/1.1\" 200 -\n",
      "127.0.0.1 - - [13/Sep/2019 18:44:16] \"GET /changepassword HTTP/1.1\" 200 -\n",
      "127.0.0.1 - - [13/Sep/2019 18:44:20] \"GET /logout HTTP/1.1\" 302 -\n",
      "127.0.0.1 - - [13/Sep/2019 18:44:20] \"GET / HTTP/1.1\" 200 -\n"
     ]
    },
    {
     "name": "stdout",
     "output_type": "stream",
     "text": [
      "None\n"
     ]
    },
    {
     "name": "stderr",
     "output_type": "stream",
     "text": [
      "127.0.0.1 - - [13/Sep/2019 18:44:25] \"GET /registerpage HTTP/1.1\" 200 -\n",
      "127.0.0.1 - - [13/Sep/2019 18:44:41] \"GET / HTTP/1.1\" 200 -\n"
     ]
    },
    {
     "name": "stdout",
     "output_type": "stream",
     "text": [
      "None\n"
     ]
    },
    {
     "name": "stderr",
     "output_type": "stream",
     "text": [
      "127.0.0.1 - - [13/Sep/2019 18:44:49] \"POST /process HTTP/1.1\" 302 -\n",
      "127.0.0.1 - - [13/Sep/2019 18:44:49] \"GET /homepage?msg=login+successfull HTTP/1.1\" 200 -\n"
     ]
    },
    {
     "name": "stdout",
     "output_type": "stream",
     "text": [
      "kalpak\n",
      "4\n"
     ]
    }
   ],
   "source": [
    "from flask import *\n",
    "\n",
    "\n",
    "\n",
    "\n",
    "app=Flask(__name__)\n",
    "app.secret_key='login'\n",
    "\n",
    "\n",
    "\n",
    "\n",
    "@app.route(\"/success\", methods=[\"GET\",\"POST\"])\n",
    "def success():\n",
    "    \n",
    "    print(session.get(\"username\"))\n",
    "    if(session.get(\"username\") == None):\n",
    "        print(\"No User Logged In\")\n",
    "        return redirect(url_for(\"login\"))\n",
    "    \n",
    "    \n",
    "    username= session[\"username\"]\n",
    "    return render_template(\"result.html\",message=msg,loginuser=username)\n",
    "\n",
    "\n",
    "@app.route(\"/fail/<msg>\", methods=[\"GET\",\"POST\"])\n",
    "def fail(msg):\n",
    "    return render_template(\"result.html\",message=msg)\n",
    "\n",
    "\n",
    "\n",
    "@app.route(\"/homepage\",methods=[\"GET\",\"post\"])\n",
    "def homepage():\n",
    "    \n",
    "    print(session.get(\"username\"))\n",
    "    \n",
    "      \n",
    "    cnt = session.get(\"count\")\n",
    "    \n",
    "    if cnt == None:\n",
    "        cnt = 1\n",
    "    else:\n",
    "        cnt = int(cnt) + 1\n",
    "    \n",
    "    print(cnt)\n",
    "    \n",
    "    \n",
    "    if(session.get(\"username\") == None):\n",
    "        print(\"No User Logged In\")\n",
    "        return redirect(url_for(\"login\",message=msg))\n",
    "    \n",
    "    session[\"count\"]=cnt\n",
    "    username= session[\"username\"]\n",
    "    resp = (render_template(\"homepage.html\",loginuser=username,count=cnt))\n",
    "   \n",
    "    return resp\n",
    "\n",
    "@app.route(\"/profilepage\",methods=[\"GET\",\"post\"])\n",
    "def profilepage():\n",
    "    username= session[\"username\"]\n",
    "    return render_template(\"profilepage.html\",loginuser=username)\n",
    "\n",
    "\n",
    "@app.route(\"/changepassword\",methods=[\"GET\",\"post\"])\n",
    "def changepassword():\n",
    "    return render_template(\"changepassword.html\")\n",
    " \n",
    "@app.route(\"/registerpage\",methods=[\"GET\",\"post\"])\n",
    "def register():\n",
    "    return render_template(\"registerpage.html\")\n",
    " \n",
    "\n",
    "\n",
    "@app.route(\"/process\", methods=[\"GET\",\"POST\"])\n",
    "def process():\n",
    "    tuser=request.form[\"tuser\"]\n",
    "    tpass=request.form[\"tpass\"]\n",
    "   \n",
    "    if(tuser==\"kalpak\" and tpass==\"kalpak\"):\n",
    "        session[\"username\"]=tuser\n",
    "        return redirect(url_for(\"homepage\",msg=\"login successfull\"))\n",
    "        \n",
    "    else:\n",
    "        return redirect(url_for(\"fail\",msg=\"sorry,login invalid !!\"))\n",
    "\n",
    "@app.route(\"/logout\")\n",
    "def logout():\n",
    "    session.pop(\"username\")\n",
    "    return redirect(url_for(\"login\"))\n",
    "\n",
    "\n",
    "@app.route(\"/\")\n",
    "def login():\n",
    "    \n",
    "       \n",
    "        print(session.get(\"username\"))\n",
    "        if(session.get(\"username\") != None ):\n",
    "            print(\"User Already Logged In!\")\n",
    "            return redirect(url_for(\"homepage\"))\n",
    "    \n",
    "        return render_template(\"login.html\")\n",
    "\n",
    "    \n",
    "    \n",
    "if __name__==\"__main__\":\n",
    "    app.run()"
   ]
  },
  {
   "cell_type": "code",
   "execution_count": null,
   "metadata": {},
   "outputs": [],
   "source": []
  }
 ],
 "metadata": {
  "kernelspec": {
   "display_name": "Python 3",
   "language": "python",
   "name": "python3"
  },
  "language_info": {
   "codemirror_mode": {
    "name": "ipython",
    "version": 3
   },
   "file_extension": ".py",
   "mimetype": "text/x-python",
   "name": "python",
   "nbconvert_exporter": "python",
   "pygments_lexer": "ipython3",
   "version": "3.7.3"
  }
 },
 "nbformat": 4,
 "nbformat_minor": 2
}
